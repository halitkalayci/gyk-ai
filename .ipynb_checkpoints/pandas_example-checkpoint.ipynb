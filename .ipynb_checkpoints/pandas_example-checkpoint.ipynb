{
 "cells": [
  {
   "cell_type": "markdown",
   "id": "865d0bc0",
   "metadata": {},
   "source": [
    "# Pandas Kütüphanesi\n",
    "\n",
    "Pythonda veri analizi ve veri manipülasyonu için kullanılan bir kütüphanedir."
   ]
  },
  {
   "cell_type": "code",
   "execution_count": 1,
   "id": "6f711d4c",
   "metadata": {},
   "outputs": [
    {
     "name": "stdout",
     "output_type": "stream",
     "text": [
      "Requirement already satisfied: pandas in c:\\users\\pc1\\miniconda3\\envs\\gyk_env\\lib\\site-packages (1.3.5)\n",
      "Requirement already satisfied: python-dateutil>=2.7.3 in c:\\users\\pc1\\miniconda3\\envs\\gyk_env\\lib\\site-packages (from pandas) (2.9.0.post0)\n",
      "Requirement already satisfied: pytz>=2017.3 in c:\\users\\pc1\\miniconda3\\envs\\gyk_env\\lib\\site-packages (from pandas) (2025.1)\n",
      "Requirement already satisfied: numpy>=1.17.3 in c:\\users\\pc1\\miniconda3\\envs\\gyk_env\\lib\\site-packages (from pandas) (1.21.6)\n",
      "Requirement already satisfied: six>=1.5 in c:\\users\\pc1\\miniconda3\\envs\\gyk_env\\lib\\site-packages (from python-dateutil>=2.7.3->pandas) (1.17.0)\n"
     ]
    }
   ],
   "source": [
    "!pip install pandas"
   ]
  },
  {
   "cell_type": "code",
   "execution_count": 3,
   "id": "e6699dfb",
   "metadata": {},
   "outputs": [],
   "source": [
    "import pandas as pd"
   ]
  },
  {
   "cell_type": "markdown",
   "id": "109d3172",
   "metadata": {},
   "source": [
    "# Pandas Series\n",
    "Tek boyutlu dizidir. (Exceldeki tek bir sütun gibi düşünebiliriz.) "
   ]
  },
  {
   "cell_type": "code",
   "execution_count": 4,
   "id": "17349525",
   "metadata": {},
   "outputs": [
    {
     "data": {
      "text/plain": [
       "0    10\n",
       "1    20\n",
       "2    30\n",
       "3    40\n",
       "4    50\n",
       "dtype: int64"
      ]
     },
     "execution_count": 4,
     "metadata": {},
     "output_type": "execute_result"
    }
   ],
   "source": [
    "series1 = pd.Series([10,20,30,40,50])\n",
    "series1"
   ]
  },
  {
   "cell_type": "markdown",
   "id": "d0bda8a8",
   "metadata": {},
   "source": [
    "# Pandas DataFrame (Tablo)\n",
    "\n",
    "Birden fazla sütun içeren bir tablodur. (Excel dosyası)"
   ]
  },
  {
   "cell_type": "code",
   "execution_count": 11,
   "id": "eb6c035f",
   "metadata": {},
   "outputs": [
    {
     "data": {
      "text/plain": [
       "{'Ad': ['Halit', 'Kudret', 'Sümeyye', 'Hilal'],\n",
       " 'Yaş': [25, 'Deneme', 25, 25],\n",
       " 'Şehir': ['İstanbul', 'Ankara', 'İzmir', 'Bursa']}"
      ]
     },
     "execution_count": 11,
     "metadata": {},
     "output_type": "execute_result"
    }
   ],
   "source": [
    "data = {\n",
    "    \"Ad\": [\"Halit\",\"Kudret\",\"Sümeyye\",\"Hilal\"],\n",
    "    \"Yaş\":[25,\"Deneme\",25,25],\n",
    "    \"Şehir\":[\"İstanbul\",\"Ankara\",\"İzmir\",\"Bursa\"]\n",
    "}\n",
    "data"
   ]
  },
  {
   "cell_type": "code",
   "execution_count": 12,
   "id": "fc81eda1",
   "metadata": {},
   "outputs": [
    {
     "data": {
      "text/html": [
       "<div>\n",
       "<style scoped>\n",
       "    .dataframe tbody tr th:only-of-type {\n",
       "        vertical-align: middle;\n",
       "    }\n",
       "\n",
       "    .dataframe tbody tr th {\n",
       "        vertical-align: top;\n",
       "    }\n",
       "\n",
       "    .dataframe thead th {\n",
       "        text-align: right;\n",
       "    }\n",
       "</style>\n",
       "<table border=\"1\" class=\"dataframe\">\n",
       "  <thead>\n",
       "    <tr style=\"text-align: right;\">\n",
       "      <th></th>\n",
       "      <th>Ad</th>\n",
       "      <th>Yaş</th>\n",
       "      <th>Şehir</th>\n",
       "    </tr>\n",
       "  </thead>\n",
       "  <tbody>\n",
       "    <tr>\n",
       "      <th>0</th>\n",
       "      <td>Halit</td>\n",
       "      <td>25</td>\n",
       "      <td>İstanbul</td>\n",
       "    </tr>\n",
       "    <tr>\n",
       "      <th>1</th>\n",
       "      <td>Kudret</td>\n",
       "      <td>Deneme</td>\n",
       "      <td>Ankara</td>\n",
       "    </tr>\n",
       "    <tr>\n",
       "      <th>2</th>\n",
       "      <td>Sümeyye</td>\n",
       "      <td>25</td>\n",
       "      <td>İzmir</td>\n",
       "    </tr>\n",
       "    <tr>\n",
       "      <th>3</th>\n",
       "      <td>Hilal</td>\n",
       "      <td>25</td>\n",
       "      <td>Bursa</td>\n",
       "    </tr>\n",
       "  </tbody>\n",
       "</table>\n",
       "</div>"
      ],
      "text/plain": [
       "        Ad     Yaş     Şehir\n",
       "0    Halit      25  İstanbul\n",
       "1   Kudret  Deneme    Ankara\n",
       "2  Sümeyye      25     İzmir\n",
       "3    Hilal      25     Bursa"
      ]
     },
     "execution_count": 12,
     "metadata": {},
     "output_type": "execute_result"
    }
   ],
   "source": [
    "df1 = pd.DataFrame(data)\n",
    "df1"
   ]
  },
  {
   "cell_type": "code",
   "execution_count": 14,
   "id": "67d045c5",
   "metadata": {},
   "outputs": [
    {
     "data": {
      "text/plain": [
       "pandas.core.frame.DataFrame"
      ]
     },
     "execution_count": 14,
     "metadata": {},
     "output_type": "execute_result"
    }
   ],
   "source": [
    "type(df1)"
   ]
  },
  {
   "cell_type": "code",
   "execution_count": null,
   "id": "75fc9557",
   "metadata": {},
   "outputs": [],
   "source": [
    "# CSV -> Comma,Seperated,Values"
   ]
  }
 ],
 "metadata": {
  "kernelspec": {
   "display_name": "Python 3 (ipykernel)",
   "language": "python",
   "name": "python3"
  },
  "language_info": {
   "codemirror_mode": {
    "name": "ipython",
    "version": 3
   },
   "file_extension": ".py",
   "mimetype": "text/x-python",
   "name": "python",
   "nbconvert_exporter": "python",
   "pygments_lexer": "ipython3",
   "version": "3.7.16"
  }
 },
 "nbformat": 4,
 "nbformat_minor": 5
}
