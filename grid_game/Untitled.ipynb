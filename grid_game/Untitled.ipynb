{
 "cells": [
  {
   "cell_type": "code",
   "execution_count": 1,
   "id": "375fa5b1-ae2c-4b1e-bb4f-bf7ce30ca83d",
   "metadata": {},
   "outputs": [],
   "source": [
    "# \n",
    "grid_size = 5\n",
    "actions = [\"up\",\"down\",\"right\",\"left\"] # çarpraz ilerleme?"
   ]
  },
  {
   "cell_type": "code",
   "execution_count": 2,
   "id": "77d3526e-a1e6-43a8-8ee3-aab07bfd738f",
   "metadata": {},
   "outputs": [],
   "source": [
    "reward_goal = 1\n",
    "reward_obstacle = -1\n",
    "reward_step = -0.01 # 8 adım 9 adım 10 adım"
   ]
  },
  {
   "cell_type": "code",
   "execution_count": 4,
   "id": "e6d1f480-0b68-4cd5-b152-dd2d3a203b37",
   "metadata": {},
   "outputs": [],
   "source": [
    "start_state = (0,0)\n",
    "goal_state = (4,4)"
   ]
  },
  {
   "cell_type": "code",
   "execution_count": 6,
   "id": "7581e8aa-4841-4244-a1c6-1f790e0e850b",
   "metadata": {},
   "outputs": [],
   "source": [
    "import numpy as np\n",
    "q_table = np.zeros((grid_size, grid_size, len(actions)))"
   ]
  },
  {
   "cell_type": "code",
   "execution_count": 11,
   "id": "6055fb27-1c65-4fa0-ba3c-295760e6315b",
   "metadata": {},
   "outputs": [],
   "source": [
    "learning_rate = 0.1 # q-table güncellenirken yeni öğrendiğin bilgiye ne kadar güven?\n",
    "discount_factor = 0.95 # agent state'i ilerledikçe ödüllere uygulanacak durum => 1 * 0.95 => 0.95\n",
    "epsilon = 1.0 #Başlangıç keşfi -> Keşfetme oranı %100 başlangıçta tamamen random\n",
    "epsilon_decay = 0.995 # epsilon = epsilon * 0.995 -> 1.0 -> 0.995 -> 0.99 -> 0.98\n",
    "epsilon_min = 0.1 # min keşif oranı.\n",
    "episode_count = 500"
   ]
  },
  {
   "cell_type": "code",
   "execution_count": 13,
   "id": "263677c0-4d17-43dd-911d-765a000ddcdd",
   "metadata": {},
   "outputs": [
    {
     "data": {
      "text/plain": [
       "(4, 0)"
      ]
     },
     "execution_count": 13,
     "metadata": {},
     "output_type": "execute_result"
    }
   ],
   "source": [
    "min(4,5), max(0,-5)"
   ]
  },
  {
   "cell_type": "code",
   "execution_count": 14,
   "id": "4710831f-762e-485b-a97f-c4b02a28d392",
   "metadata": {},
   "outputs": [],
   "source": [
    "# take_action( (1,1), 'right' )\n",
    "def take_action(state, action):\n",
    "    x, y = state\n",
    "    if action == 'up':\n",
    "        x = max(0, x-1) # max(0,-5) 0 max(0,1) 1\n",
    "    elif action == 'down':\n",
    "        x = min(grid_size - 1, x+1) # min(4,5) -> 4\n",
    "    elif action == 'right':\n",
    "        y = min(grid_size-1, y+1)\n",
    "    elif action == 'left':\n",
    "        y = max(0, y - 1)"
   ]
  },
  {
   "cell_type": "code",
   "execution_count": 19,
   "id": "da659067-7e6d-41fe-9df9-0287fa506803",
   "metadata": {},
   "outputs": [],
   "source": [
    "def render(start_state):\n",
    "    for i in range(grid_size):\n",
    "        row = ''\n",
    "        for j in range(grid_size):\n",
    "            if (i,j) == start_state:\n",
    "                row += ' A '\n",
    "            elif (i,j) == goal_state:\n",
    "                row += ' H '\n",
    "            else:\n",
    "                row += ' . '\n",
    "            print(row)\n",
    "        print(\"\\n\")"
   ]
  },
  {
   "cell_type": "code",
   "execution_count": null,
   "id": "25b98d75-2c5d-4554-badb-673ec16546b8",
   "metadata": {},
   "outputs": [],
   "source": [
    "rewards_per_e"
   ]
  }
 ],
 "metadata": {
  "kernelspec": {
   "display_name": "Python 3 (ipykernel)",
   "language": "python",
   "name": "python3"
  },
  "language_info": {
   "codemirror_mode": {
    "name": "ipython",
    "version": 3
   },
   "file_extension": ".py",
   "mimetype": "text/x-python",
   "name": "python",
   "nbconvert_exporter": "python",
   "pygments_lexer": "ipython3",
   "version": "3.9.21"
  }
 },
 "nbformat": 4,
 "nbformat_minor": 5
}
