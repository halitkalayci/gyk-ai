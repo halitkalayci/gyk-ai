{
 "cells": [
  {
   "cell_type": "markdown",
   "id": "f0bed63c-6324-4685-91f8-50f4a0606e4c",
   "metadata": {},
   "source": [
    "### Denetimsiz Öğrenme"
   ]
  },
  {
   "cell_type": "code",
   "execution_count": 1,
   "id": "6f92ada9-e408-41f2-89b1-5a97fb16c617",
   "metadata": {},
   "outputs": [],
   "source": [
    "### Ham veri ile etiket olmadan desen (pattern) bulmaya çalışıyoruz."
   ]
  },
  {
   "cell_type": "markdown",
   "id": "946685ab-dedd-4a16-85ef-c51174f3c972",
   "metadata": {},
   "source": [
    "## K-Means Algoritması"
   ]
  },
  {
   "cell_type": "code",
   "execution_count": 2,
   "id": "8ab63798-9166-4105-9409-82e85b0f3f13",
   "metadata": {},
   "outputs": [],
   "source": [
    "from sklearn.datasets import make_blobs"
   ]
  },
  {
   "cell_type": "code",
   "execution_count": null,
   "id": "abd8fe68-77f0-4c1d-a992-56824ab8449e",
   "metadata": {},
   "outputs": [],
   "source": [
    "X, y_true = make_blobs(n_samples=300, centers=4, random_state=42, cluster_std=1.0)"
   ]
  }
 ],
 "metadata": {
  "kernelspec": {
   "display_name": "Python 3 (ipykernel)",
   "language": "python",
   "name": "python3"
  },
  "language_info": {
   "codemirror_mode": {
    "name": "ipython",
    "version": 3
   },
   "file_extension": ".py",
   "mimetype": "text/x-python",
   "name": "python",
   "nbconvert_exporter": "python",
   "pygments_lexer": "ipython3",
   "version": "3.9.21"
  }
 },
 "nbformat": 4,
 "nbformat_minor": 5
}
